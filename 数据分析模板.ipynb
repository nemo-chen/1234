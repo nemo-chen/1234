{
 "cells": [
  {
   "cell_type": "code",
   "execution_count": 1,
   "metadata": {},
   "outputs": [],
   "source": [
    "import numpy as np\n",
    "import pandas as pd\n",
    "import statsmodels.api as sm\n",
    "import os\n",
    "import plotly.express as px\n",
    "import plotly.graph_objects as go\n",
    "import sklearn.linear_model"
   ]
  },
  {
   "cell_type": "code",
   "execution_count": null,
   "metadata": {},
   "outputs": [],
   "source": [
    "roda=''\n",
    "data=pd.read_csv()\n",
    "#缺失率统计\n",
    "miss_rate = data.apply(lambda x:sum(x.isnull()len(x))).rename({0:'缺失率'})\n",
    "miss_rate[miss_rate.缺失率>]['缺失率'].apply(lambda x:format(x,'.3%'))\n",
    "#数据分组 .value_counts() lg:data[data.x.isnull()][y].value_counts()\n",
    "#累计值计算\n",
    "data.x.cumsun()"
   ]
  }
 ],
 "metadata": {
  "kernelspec": {
   "display_name": "Python 3",
   "language": "python",
   "name": "python3"
  },
  "language_info": {
   "codemirror_mode": {
    "name": "ipython",
    "version": 3
   },
   "file_extension": ".py",
   "mimetype": "text/x-python",
   "name": "python",
   "nbconvert_exporter": "python",
   "pygments_lexer": "ipython3",
   "version": "3.7.4"
  }
 },
 "nbformat": 4,
 "nbformat_minor": 2
}
